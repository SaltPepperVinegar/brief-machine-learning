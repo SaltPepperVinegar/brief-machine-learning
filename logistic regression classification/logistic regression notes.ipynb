{
 "cells": [
  {
   "cell_type": "markdown",
   "id": "68e86bda-d282-47f6-9647-a4abbbb16470",
   "metadata": {},
   "source": [
    "Sigmoid Logistic function \n",
    "- between 0 and 1\n",
    "- \\\n",
    "$$\n",
    "\\sigma(z) = \\frac{1}{1+\\exp(-z)}\n",
    "$$\n",
    "$$\n",
    "g(x) = \\sigma(\\theta x +\\theta_0)\n",
    "$$\n",
    "\n",
    "2 features:\n",
    "$$\n",
    "g(x) = \\sigma(\\theta^T x+\\theta_0)\n",
    "$$"
   ]
  },
  {
   "cell_type": "markdown",
   "id": "82e97457-41f0-48c0-99ef-1ca0fde29320",
   "metadata": {},
   "source": []
  },
  {
   "cell_type": "markdown",
   "id": "2e0bd416-97e5-41d2-ae31-ccd43c55ba72",
   "metadata": {},
   "source": [
    "probability of i data point \n"
   ]
  }
 ],
 "metadata": {
  "kernelspec": {
   "display_name": "Python 3 (ipykernel)",
   "language": "python",
   "name": "python3"
  },
  "language_info": {
   "codemirror_mode": {
    "name": "ipython",
    "version": 3
   },
   "file_extension": ".py",
   "mimetype": "text/x-python",
   "name": "python",
   "nbconvert_exporter": "python",
   "pygments_lexer": "ipython3",
   "version": "3.11.7"
  }
 },
 "nbformat": 4,
 "nbformat_minor": 5
}
