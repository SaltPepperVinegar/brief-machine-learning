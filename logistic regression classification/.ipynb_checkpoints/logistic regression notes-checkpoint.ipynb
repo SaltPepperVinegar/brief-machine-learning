{
 "cells": [
  {
   "cell_type": "markdown",
   "id": "68e86bda-d282-47f6-9647-a4abbbb16470",
   "metadata": {},
   "source": [
    "Sigmoid Logistic function \n",
    "- between 0 and 1\n",
    "1 feature\n",
    "$$\n",
    "\\sigma(z) = \\frac{1}{1+\\exp(-z)}\n",
    "$$\n",
    "$$\n",
    "g(x) = \\sigma(\\theta x +\\theta_0)\n",
    "$$\n",
    "\n",
    "2 features:\n",
    "$$\n",
    "g(x) = \\sigma(\\theta^T+\\theta_0)\n",
    "$$"
   ]
  },
  {
   "cell_type": "code",
   "execution_count": null,
   "id": "07664532-edea-4fde-bf06-21ed19248df0",
   "metadata": {},
   "outputs": [],
   "source": []
  }
 ],
 "metadata": {
  "kernelspec": {
   "display_name": "Python 3 (ipykernel)",
   "language": "python",
   "name": "python3"
  },
  "language_info": {
   "codemirror_mode": {
    "name": "ipython",
    "version": 3
   },
   "file_extension": ".py",
   "mimetype": "text/x-python",
   "name": "python",
   "nbconvert_exporter": "python",
   "pygments_lexer": "ipython3",
   "version": "3.11.7"
  }
 },
 "nbformat": 4,
 "nbformat_minor": 5
}
