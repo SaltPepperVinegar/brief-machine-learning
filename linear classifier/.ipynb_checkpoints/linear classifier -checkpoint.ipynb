{
 "cells": [
  {
   "cell_type": "markdown",
   "id": "4a04f691-416a-488a-aba1-256d49006222",
   "metadata": {},
   "source": [
    "implement with sklearn \n"
   ]
  },
  {
   "cell_type": "code",
   "execution_count": 1,
   "id": "5c6fd6f6-de24-470b-9c59-8944453db264",
   "metadata": {},
   "outputs": [],
   "source": [
    "import numpy as np \n",
    "\n",
    "from sklearn import datasets\n",
    "from sklearn.datasets import make_classification\n",
    "\n",
    "import pandas as pd\n",
    "\n",
    "import matplotlib.pyplot as plt\n"
   ]
  },
  {
   "cell_type": "markdown",
   "id": "4696fbe2-e2d9-494d-bf62-55a3ec61f9f1",
   "metadata": {},
   "source": [
    "linear classifier "
   ]
  },
  {
   "cell_type": "code",
   "execution_count": 2,
   "id": "35100ce7-b657-446e-b622-c53412541b43",
   "metadata": {},
   "outputs": [],
   "source": [
    "class LinearClassifier():\n",
    "    def __init__(self,t,b):\n",
    "        self.t = t\n",
    "        self.b = b \n",
    "        \n",
    "    def predict(self,x):\n",
    "        return  np.sign(np.dot(x,self.t/np.linalg.norm(self.t)) + self.b)\n",
    "            \n",
    "    def predict_array(self,x):\n",
    "        return [self.predict(i)  for i in x ]\n"
   ]
  },
  {
   "cell_type": "code",
   "execution_count": 9,
   "id": "330ede75-d4f1-4345-8fb2-74728e671086",
   "metadata": {},
   "outputs": [
    {
     "ename": "NameError",
     "evalue": "name 'make_classification' is not defined",
     "output_type": "error",
     "traceback": [
      "\u001b[1;31m---------------------------------------------------------------------------\u001b[0m",
      "\u001b[1;31mNameError\u001b[0m                                 Traceback (most recent call last)",
      "Cell \u001b[1;32mIn[9], line 2\u001b[0m\n\u001b[0;32m      1\u001b[0m \u001b[38;5;66;03m# load data set \u001b[39;00m\n\u001b[1;32m----> 2\u001b[0m X, y \u001b[38;5;241m=\u001b[39m make_classification(n_samples\u001b[38;5;241m=\u001b[39m\u001b[38;5;241m200\u001b[39m, n_features\u001b[38;5;241m=\u001b[39m\u001b[38;5;241m2\u001b[39m, n_classes\u001b[38;5;241m=\u001b[39m\u001b[38;5;241m2\u001b[39m, n_redundant\u001b[38;5;241m=\u001b[39m\u001b[38;5;241m0\u001b[39m, n_clusters_per_class\u001b[38;5;241m=\u001b[39m\u001b[38;5;241m1\u001b[39m, random_state\u001b[38;5;241m=\u001b[39m\u001b[38;5;241m42\u001b[39m)\n\u001b[0;32m      3\u001b[0m \u001b[38;5;28mprint\u001b[39m(x,y)\n\u001b[0;32m      4\u001b[0m dataset \u001b[38;5;241m=\u001b[39m datasets\u001b[38;5;241m.\u001b[39mload_iris()\n",
      "\u001b[1;31mNameError\u001b[0m: name 'make_classification' is not defined"
     ]
    }
   ],
   "source": [
    "# load data set \n",
    "X, y = make_classification(n_samples=200, n_features=2, n_classes=2, n_redundant=0, n_clusters_per_class=1, random_state=42)\n",
    "print(x,y)\n",
    "dataset = datasets.load_iris()\n",
    "x = dataset.data[:, :2]\n",
    "y = (dataset.target != 0) * 1  "
   ]
  },
  {
   "cell_type": "markdown",
   "id": "6661f80f-72d4-4313-b199-ec684f355a3e",
   "metadata": {},
   "source": [
    "learning algorithm "
   ]
  },
  {
   "cell_type": "code",
   "execution_count": 4,
   "id": "19136c6b-964f-40cd-b2c1-bce45739c86d",
   "metadata": {},
   "outputs": [],
   "source": [
    "def training_error (x,model,a):\n",
    "    sum = 0 \n",
    "    for i in range(len(x)):\n",
    "        if (model.predict(x[i]) != a [i]):\n",
    "            sum +=1\n",
    "\n",
    "    return sum / len(x) \n"
   ]
  },
  {
   "cell_type": "code",
   "execution_count": 5,
   "id": "ad7298ea-c563-4626-96d2-39fd7f9e7aa6",
   "metadata": {},
   "outputs": [],
   "source": [
    "\n",
    "def learning_algorithm_random (x, j, y):\n",
    "    np.random.seed(42)\n",
    "    true_theta = np.random.randn(2) \n",
    "    true_bias = np.random.randn()\n",
    "    current_model = LinearClassifier(true_theta, true_bias)\n",
    "    current_training_error = training_error(x,current_model,y) \n",
    "    for i in range(j):\n",
    "        possible_theta = np.random.randn(2) \n",
    "        possible_bias = np.random.randn()\n",
    "        possible_model = LinearClassifier(possible_theta, possible_bias)\n",
    "        possible_training_error = training_error(x,current_model,y)\n",
    "        if  possible_training_error < current_training_error :\n",
    "            current_model = possible_model\n",
    "            current_training_error = possible_training_error\n",
    "    return current_model,current_training_error\n",
    "\n",
    "\n"
   ]
  },
  {
   "cell_type": "code",
   "execution_count": 8,
   "id": "a3e824c6-79d0-4a9b-8c7b-b05366fd6024",
   "metadata": {},
   "outputs": [
    {
     "name": "stdout",
     "output_type": "stream",
     "text": [
      "0.3333333333333333\n"
     ]
    }
   ],
   "source": [
    "learned_model,error = learning_algorithm_random(x,10000,y)\n",
    "print(error)\n",
    "learned_model."
   ]
  },
  {
   "cell_type": "markdown",
   "id": "af0c7324-c084-40c5-beb4-32a5b0fe40b9",
   "metadata": {},
   "source": [
    "perception algorithm "
   ]
  },
  {
   "cell_type": "code",
   "execution_count": null,
   "id": "2ef0fb9b-2efc-4e43-8922-ff0002db31ce",
   "metadata": {},
   "outputs": [],
   "source": [
    "plt.scatter(x[:,0],x[:,1], color='blue', edgecolors='black', alpha=0.7)\n"
   ]
  },
  {
   "cell_type": "code",
   "execution_count": null,
   "id": "65a7c499-f7e2-4efb-8a07-fef6a2cc0f8e",
   "metadata": {},
   "outputs": [],
   "source": [
    "x[:,0]"
   ]
  },
  {
   "cell_type": "code",
   "execution_count": null,
   "id": "747ddb3c-a2f5-4f45-87a4-990124904ef0",
   "metadata": {},
   "outputs": [],
   "source": []
  }
 ],
 "metadata": {
  "kernelspec": {
   "display_name": "Python 3 (ipykernel)",
   "language": "python",
   "name": "python3"
  },
  "language_info": {
   "codemirror_mode": {
    "name": "ipython",
    "version": 3
   },
   "file_extension": ".py",
   "mimetype": "text/x-python",
   "name": "python",
   "nbconvert_exporter": "python",
   "pygments_lexer": "ipython3",
   "version": "3.11.7"
  }
 },
 "nbformat": 4,
 "nbformat_minor": 5
}
