{
 "cells": [
  {
   "cell_type": "markdown",
   "id": "4a04f691-416a-488a-aba1-256d49006222",
   "metadata": {},
   "source": [
    "implement with sklearn \n"
   ]
  },
  {
   "cell_type": "code",
   "execution_count": 9,
   "id": "5c6fd6f6-de24-470b-9c59-8944453db264",
   "metadata": {},
   "outputs": [],
   "source": [
    "import numpy as np \n",
    "\n",
    "from sklearn import datasets\n",
    "\n",
    "import pandas as pd"
   ]
  },
  {
   "cell_type": "markdown",
   "id": "0895d307-6f2a-4974-b1f5-228c43b7e5a9",
   "metadata": {},
   "source": [
    "def linear_classfier(x,t,a):\n",
    "    return  np.sign(np.dot(x,t/np.linalg.norm(t)) + a)\n",
    "def linear_classfier_predict(x,t,a):\n",
    "    return [linear_classfier(i, t, a)  for i in x ]"
   ]
  },
  {
   "cell_type": "code",
   "execution_count": 29,
   "id": "330ede75-d4f1-4345-8fb2-74728e671086",
   "metadata": {},
   "outputs": [],
   "source": [
    "# load data set \n",
    "dataset = datasets.load_iris()\n",
    "x = dataset.data[:, :2]\n"
   ]
  },
  {
   "cell_type": "markdown",
   "id": "6661f80f-72d4-4313-b199-ec684f355a3e",
   "metadata": {},
   "source": [
    "learning algorithm "
   ]
  },
  {
   "cell_type": "code",
   "execution_count": null,
   "id": "19136c6b-964f-40cd-b2c1-bce45739c86d",
   "metadata": {},
   "outputs": [],
   "source": []
  },
  {
   "cell_type": "markdown",
   "id": "af0c7324-c084-40c5-beb4-32a5b0fe40b9",
   "metadata": {},
   "source": [
    "perception algorithm "
   ]
  },
  {
   "cell_type": "code",
   "execution_count": null,
   "id": "2ef0fb9b-2efc-4e43-8922-ff0002db31ce",
   "metadata": {},
   "outputs": [],
   "source": []
  }
 ],
 "metadata": {
  "kernelspec": {
   "display_name": "Python 3 (ipykernel)",
   "language": "python",
   "name": "python3"
  },
  "language_info": {
   "codemirror_mode": {
    "name": "ipython",
    "version": 3
   },
   "file_extension": ".py",
   "mimetype": "text/x-python",
   "name": "python",
   "nbconvert_exporter": "python",
   "pygments_lexer": "ipython3",
   "version": "3.11.7"
  }
 },
 "nbformat": 4,
 "nbformat_minor": 5
}
